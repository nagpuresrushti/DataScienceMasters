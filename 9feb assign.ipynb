{
 "cells": [
  {
   "cell_type": "code",
   "execution_count": 5,
   "id": "d6788fb7",
   "metadata": {},
   "outputs": [
    {
     "data": {
      "text/plain": [
       "'#Q1, Create a vehicle class with an init method having instance variables as name_of_vehicle, max_speed \\nand average_of_vehicle.'"
      ]
     },
     "execution_count": 5,
     "metadata": {},
     "output_type": "execute_result"
    }
   ],
   "source": [
    "\"\"\"#Q1, Create a vehicle class with an init method having instance variables as name_of_vehicle, max_speed \n",
    "and average_of_vehicle.\"\"\""
   ]
  },
  {
   "cell_type": "code",
   "execution_count": 11,
   "id": "9087b65a",
   "metadata": {},
   "outputs": [],
   "source": [
    "class Vehicle:\n",
    "\n",
    "    def __init__(self, name_of_vehicle, max_speed, average):\n",
    "        self.name = name_of_vehicle\n",
    "        self.max_speed = max_speed\n",
    "        self.average= average"
   ]
  },
  {
   "cell_type": "code",
   "execution_count": 8,
   "id": "0aac5f45",
   "metadata": {},
   "outputs": [
    {
     "data": {
      "text/plain": [
       "'#Q2 Create a child class car from the vehicle class created in Que 1, which will inherit the vehicle class. \\nCreate a method named seating_capacity which takes capacity as an argument and returns the name of \\nthe vehicle and its seating capacity'"
      ]
     },
     "execution_count": 8,
     "metadata": {},
     "output_type": "execute_result"
    }
   ],
   "source": [
    "\"\"\"#Q2 Create a child class car from the vehicle class created in Que 1, which will inherit the vehicle class. \n",
    "Create a method named seating_capacity which takes capacity as an argument and returns the name of \n",
    "the vehicle and its seating capacity\"\"\""
   ]
  },
  {
   "cell_type": "code",
   "execution_count": 33,
   "id": "1b2cff18",
   "metadata": {},
   "outputs": [],
   "source": [
    "class Vehicle:\n",
    "\n",
    "    def __init__(self, name_of_vehicle, max_speed, average):\n",
    "        self.name = name_of_vehicle\n",
    "        self.max_speed = max_speed\n",
    "        self.average= average\n",
    "\n",
    "        def seating_capacity(self, capacity):\n",
    "            return f\"{self.display_info()} has a seating capacity of {capacity}.\""
   ]
  },
  {
   "cell_type": "code",
   "execution_count": 34,
   "id": "22876240",
   "metadata": {},
   "outputs": [],
   "source": [
    "class Bus(Vehicle):\n",
    "    pass"
   ]
  },
  {
   "cell_type": "code",
   "execution_count": 35,
   "id": "cafaa6d0",
   "metadata": {},
   "outputs": [],
   "source": [
    "child_vehicle_obj =seating_capacity"
   ]
  },
  {
   "cell_type": "code",
   "execution_count": 39,
   "id": "a8ddd717",
   "metadata": {},
   "outputs": [
    {
     "name": "stdout",
     "output_type": "stream",
     "text": [
      "White Hyundai has a seating capacity of 50.\n"
     ]
    }
   ],
   "source": [
    "car_instance = Car(name=\"Hyundai\", color=\"White\", model=\"Camry\")\n",
    "print(car_instance.seating_capacity(50))\n"
   ]
  },
  {
   "cell_type": "code",
   "execution_count": 40,
   "id": "31539a0b",
   "metadata": {},
   "outputs": [],
   "source": [
    "\"\"\"#Q3. What is multiple inheritance? Write a python code to demonstrate multiple inheritance.\"\"\"\n"
   ]
  },
  {
   "cell_type": "code",
   "execution_count": 42,
   "id": "8ed6fe7f",
   "metadata": {},
   "outputs": [
    {
     "name": "stdout",
     "output_type": "stream",
     "text": [
      "Tweet!\n",
      "I can fly!\n",
      "Quack!\n",
      "I can fly!\n",
      "I can swim!\n"
     ]
    }
   ],
   "source": [
    "class Animal:\n",
    "    def __init__(self, species):\n",
    "        self.species = species\n",
    "\n",
    "    def make_sound(self):\n",
    "        pass\n",
    "\n",
    "class Flyable:\n",
    "    def fly(self):\n",
    "        print(\"I can fly!\")\n",
    "\n",
    "class Swimmable:\n",
    "    def swim(self):\n",
    "        print(\"I can swim!\")\n",
    "\n",
    "# Multiple Inheritance\n",
    "class Bird(Animal, Flyable):\n",
    "    def make_sound(self):\n",
    "        print(\"Tweet!\")\n",
    "\n",
    "# Another example of Multiple Inheritance\n",
    "class Duck(Animal, Flyable, Swimmable):\n",
    "    def make_sound(self):\n",
    "        print(\"Quack!\")\n",
    "\n",
    "# Example usage\n",
    "bird_instance = Bird(species=\"Sparrow\")\n",
    "bird_instance.make_sound()  # Output: Tweet!\n",
    "bird_instance.fly()          # Output: I can fly!\n",
    "\n",
    "duck_instance = Duck(species=\"Duck\")\n",
    "duck_instance.make_sound()  # Output: Quack!\n",
    "duck_instance.fly()         # Output: I can fly!\n",
    "duck_instance.swim()        # Output: I can swim!\n"
   ]
  },
  {
   "cell_type": "code",
   "execution_count": 43,
   "id": "bbdc8f46",
   "metadata": {},
   "outputs": [
    {
     "data": {
      "text/plain": [
       "'Q4. What are getter and setter in python? Create a class and create a getter and a setter method in this \\nclass.'"
      ]
     },
     "execution_count": 43,
     "metadata": {},
     "output_type": "execute_result"
    }
   ],
   "source": [
    "\"\"\"Q4. What are getter and setter in python? Create a class and create a getter and a setter method in this \n",
    "class.\"\"\""
   ]
  },
  {
   "cell_type": "code",
   "execution_count": 44,
   "id": "c4ca9c8c",
   "metadata": {},
   "outputs": [
    {
     "name": "stdout",
     "output_type": "stream",
     "text": [
      "Current value: 42\n",
      "Error: Value must be non-negative.\n",
      "Current value: 42\n"
     ]
    }
   ],
   "source": [
    "class MyClass:\n",
    "    def __init__(self):\n",
    "        # Private attribute with a leading double underscore\n",
    "        self.__value = 0\n",
    "\n",
    "    # Getter method\n",
    "    def get_value(self):\n",
    "        return self.__value\n",
    "\n",
    "    # Setter method\n",
    "    def set_value(self, new_value):\n",
    "        if new_value >= 0:\n",
    "            self.__value = new_value\n",
    "        else:\n",
    "            print(\"Error: Value must be non-negative.\")\n",
    "\n",
    "# Example usage:\n",
    "my_object = MyClass()\n",
    "\n",
    "# Using the setter method\n",
    "my_object.set_value(42)\n",
    "\n",
    "# Using the getter method\n",
    "print(\"Current value:\", my_object.get_value())  # Output: Current value: 42\n",
    "\n",
    "# Trying to set a negative value\n",
    "my_object.set_value(-10)  # Output: Error: Value must be non-negative.\n",
    "\n",
    "# Value remains unchanged\n",
    "print(\"Current value:\", my_object.get_value())  # Output: Current value: 42\n"
   ]
  },
  {
   "cell_type": "code",
   "execution_count": 45,
   "id": "49c073a0",
   "metadata": {},
   "outputs": [
    {
     "data": {
      "text/plain": [
       "'Getter Method:\\n\\nA getter method is used to retrieve the value of a private attribute.\\nIt typically has a name like get_attribute() where attribute is the name of the attribute you want to retrieve.\\nIt allows controlled access to the internal state of an object.'"
      ]
     },
     "execution_count": 45,
     "metadata": {},
     "output_type": "execute_result"
    }
   ],
   "source": [
    "\"\"\"Getter Method:\n",
    "\n",
    "A getter method is used to retrieve the value of a private attribute.\n",
    "It typically has a name like get_attribute() where attribute is the name of the attribute you want to retrieve.\n",
    "It allows controlled access to the internal state of an object.\"\"\""
   ]
  },
  {
   "cell_type": "code",
   "execution_count": 46,
   "id": "8798a96b",
   "metadata": {},
   "outputs": [
    {
     "data": {
      "text/plain": [
       "'Setter Method:\\n\\nA setter method is used to modify the value of a private attribute.\\nIt typically has a name like set_attribute(value) where attribute is the name of the attribute you want to modify, and value is the new value.\\nIt allows controlled modification of the internal state of an object.'"
      ]
     },
     "execution_count": 46,
     "metadata": {},
     "output_type": "execute_result"
    }
   ],
   "source": [
    "\"\"\"Setter Method:\n",
    "\n",
    "A setter method is used to modify the value of a private attribute.\n",
    "It typically has a name like set_attribute(value) where attribute is the name of the attribute you want to modify, and value is the new value.\n",
    "It allows controlled modification of the internal state of an object.\"\"\""
   ]
  },
  {
   "cell_type": "code",
   "execution_count": 48,
   "id": "a4f11c43",
   "metadata": {},
   "outputs": [
    {
     "data": {
      "text/plain": [
       "' Q5.What is method overriding in python? Write a python code to demonstrate method overriding.\\nMethod overriding in Python is when you have two methods with the same name that each perform different tasks. This is an important feature of inheritance in Python. In method overriding, the child class can change its functions that are defined by its ancestral classes.'"
      ]
     },
     "execution_count": 48,
     "metadata": {},
     "output_type": "execute_result"
    }
   ],
   "source": [
    "\"\"\" Q5.What is method overriding in python? Write a python code to demonstrate method overriding.\n",
    "\n",
    "Method overriding in Python is when you have two methods with the same name that each perform different tasks. This is an important feature of inheritance in Python. In method overriding, the child class can change its functions that are defined by its ancestral classes.\"\"\""
   ]
  },
  {
   "cell_type": "code",
   "execution_count": 49,
   "id": "84bd1925",
   "metadata": {},
   "outputs": [
    {
     "name": "stdout",
     "output_type": "stream",
     "text": [
      "Dog barks\n",
      "Cat meows\n"
     ]
    }
   ],
   "source": [
    "class Animal:\n",
    "    def speak(self):\n",
    "        print(\"Animal speaks\")\n",
    "\n",
    "class Dog(Animal):\n",
    "    def speak(self):\n",
    "        print(\"Dog barks\")\n",
    "\n",
    "class Cat(Animal):\n",
    "    def speak(self):\n",
    "        print(\"Cat meows\")\n",
    "\n",
    "# Create instances of the derived classes\n",
    "dog_instance = Dog()\n",
    "cat_instance = Cat()\n",
    "\n",
    "# Call the overridden methods\n",
    "dog_instance.speak()  # Output: Dog barks\n",
    "cat_instance.speak()  # Output: Cat meows\n"
   ]
  }
 ],
 "metadata": {
  "kernelspec": {
   "display_name": "Python 3 (ipykernel)",
   "language": "python",
   "name": "python3"
  },
  "language_info": {
   "codemirror_mode": {
    "name": "ipython",
    "version": 3
   },
   "file_extension": ".py",
   "mimetype": "text/x-python",
   "name": "python",
   "nbconvert_exporter": "python",
   "pygments_lexer": "ipython3",
   "version": "3.10.9"
  }
 },
 "nbformat": 4,
 "nbformat_minor": 5
}
