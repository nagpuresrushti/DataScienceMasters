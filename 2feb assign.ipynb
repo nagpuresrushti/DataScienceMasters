{
 "cells": [
  {
   "cell_type": "code",
   "execution_count": 2,
   "id": "dd786d68",
   "metadata": {},
   "outputs": [
    {
     "name": "stdout",
     "output_type": "stream",
     "text": [
      "pen\n",
      "notebook\n",
      "pencil\n",
      "lunch box\n"
     ]
    }
   ],
   "source": [
    "#Q1.Explain with an example each when to use a for loop and a while loop.\n",
    "# for loop and example\n",
    "\"\"\"For Loop: A for loop is an iteration method that is best used when you know the number of iterations ahead of time.\n",
    "It’s always followed by the initialization, expression and increment statements.\"\"\"\n",
    "# example\n",
    "items = ['pen', 'notebook', \n",
    "         'pencil', 'lunch box'] \n",
    "   \n",
    "for item in items: \n",
    "  print(item) \n"
   ]
  },
  {
   "cell_type": "code",
   "execution_count": 3,
   "id": "343ffffa",
   "metadata": {},
   "outputs": [
    {
     "name": "stdout",
     "output_type": "stream",
     "text": [
      "1\n",
      "2\n",
      "3\n",
      "4\n",
      "5\n"
     ]
    }
   ],
   "source": [
    "#while loop and example\n",
    "\"\"\"While Loop: A while loop is an iteration method that is best used when you don't know the number of iterations ahead of time. \n",
    "The contents of the loop are executed as long as the expression evaluates to true.\"\"\"\n",
    "#example\n",
    "i = 1  \n",
    "while i < 6:  \n",
    "    print(i)\n",
    "    i += 1  \n",
    "\n"
   ]
  },
  {
   "cell_type": "code",
   "execution_count": 9,
   "id": "95d0e87f",
   "metadata": {},
   "outputs": [
    {
     "name": "stdout",
     "output_type": "stream",
     "text": [
      "1\n",
      "2\n",
      "3\n",
      "4\n",
      "5\n",
      "6\n",
      "7\n",
      "8\n",
      "9\n",
      "10\n"
     ]
    }
   ],
   "source": [
    "#Q2.  \"\"\"Write a python program to print the sum and product of the first 10 natural numbers using for \n",
    "        #and while loop\n",
    "i = 1\n",
    "while i<11:\n",
    "    print(i)\n",
    "    i+=1"
   ]
  },
  {
   "cell_type": "code",
   "execution_count": 8,
   "id": "f431e45a",
   "metadata": {},
   "outputs": [
    {
     "name": "stdout",
     "output_type": "stream",
     "text": [
      "Enter the number of units consumed: 310\n",
      "The electricity bill for 310 units is Rs. 2250.00\n"
     ]
    }
   ],
   "source": [
    "\"\"\"Q3. Create a python program to compute the electricity bill for a household.\n",
    "The per-unit charges in rupees are as follows: For the first 100 units, the user will be charged Rs. 4.5 per \n",
    "unit, for the next 100 units, the user will be charged Rs. 6 per unit, and for the next 100 units, the user will \n",
    "be charged Rs. 10 per unit, After 300 units and above the user will be charged Rs. 20 per unit.\"\"\"\n",
    "\n",
    "def calculate_electricity_bill(units):\n",
    "    charges = [4.5, 6, 10, 20]\n",
    "    \n",
    "    total_bill = 0\n",
    "    remaining_units = units\n",
    "    \n",
    "    \n",
    "    for charge in charges:\n",
    "        if remaining_units > 0:\n",
    "            if remaining_units <= 100:\n",
    "                total_bill += remaining_units * charge\n",
    "            else:\n",
    "                total_bill += 100 * charge\n",
    "                remaining_units -= 100\n",
    "\n",
    "    return total_bill\n",
    "\n",
    "units_consumed = int(input(\"Enter the number of units consumed: \"))\n",
    "\n",
    "electricity_bill = calculate_electricity_bill(units_consumed)\n",
    "print(f\"The electricity bill for {units_consumed} units is Rs. {electricity_bill:.2f}\")\n"
   ]
  },
  {
   "cell_type": "code",
   "execution_count": 3,
   "id": "8db2840d",
   "metadata": {},
   "outputs": [
    {
     "name": "stdout",
     "output_type": "stream",
     "text": [
      "Enter the number of units consumed: 310\n",
      "The electricity bill for 310 units is Rs. 2250.00\n"
     ]
    }
   ],
   "source": [
    "def calculate_electricity_bill(units):\n",
    "    charges = [4.5, 6, 10, 20]\n",
    "    \n",
    "    total_bill = 0\n",
    "    remaining_units = units\n",
    "    \n",
    "    \n",
    "    for charge in charges:\n",
    "        if remaining_units > 0:\n",
    "            if remaining_units <= 100:\n",
    "                total_bill += remaining_units * charge\n",
    "            else:\n",
    "                total_bill += 100 * charge\n",
    "                remaining_units -= 100\n",
    "\n",
    "    return total_bill\n",
    "\n",
    "units_consumed = int(input(\"Enter the number of units consumed: \"))\n",
    "\n",
    "electricity_bill = calculate_electricity_bill(units_consumed)\n",
    "print(f\"The electricity bill for {units_consumed} units is Rs. {electricity_bill:.2f}\")\n"
   ]
  },
  {
   "cell_type": "code",
   "execution_count": 1,
   "id": "a9c945da",
   "metadata": {},
   "outputs": [
    {
     "name": "stdout",
     "output_type": "stream",
     "text": [
      "Using for loop:\n",
      "[2, 4, 5, 6, 8, 10, 12, 14, 15, 16, 18, 20, 22, 24, 25, 26, 28, 30, 32, 34, 35, 36, 38, 40, 42, 44, 45, 46, 48, 50, 52, 54, 55, 56, 58, 60, 62, 64, 65, 66, 68, 70, 72, 74, 75, 76, 78, 80, 82, 84, 85, 86, 88, 90, 92, 94, 95, 96, 98, 100]\n",
      "\n",
      "Using while loop:\n",
      "[2, 4, 5, 6, 8, 10, 12, 14, 15, 16, 18, 20, 22, 24, 25, 26, 28, 30, 32, 34, 35, 36, 38, 40, 42, 44, 45, 46, 48, 50, 52, 54, 55, 56, 58, 60, 62, 64, 65, 66, 68, 70, 72, 74, 75, 76, 78, 80, 82, 84, 85, 86, 88, 90, 92, 94, 95, 96, 98, 100]\n"
     ]
    }
   ],
   "source": [
    "\"\"\"Q4. Create a list of numbers from 1 to 100. Use for loop and while loop to calculate the cube of each \n",
    "number and if the cube of that number is divisible by 4 or 5 then append that number in a list and print \n",
    "that list\"\"\"\n",
    "\n",
    "# Using for loop\n",
    "cube_list_for = []\n",
    "for num in range(1, 101):\n",
    "    cube = num ** 3\n",
    "    if cube % 4 == 0 or cube % 5 == 0:\n",
    "        cube_list_for.append(num)\n",
    "\n",
    "print(\"Using for loop:\")\n",
    "print(cube_list_for)\n",
    "\n",
    "# Using while loop\n",
    "cube_list_while = []\n",
    "num = 1\n",
    "while num <= 100:\n",
    "    cube = num ** 3\n",
    "    if cube % 4 == 0 or cube % 5 == 0:\n",
    "        cube_list_while.append(num)\n",
    "    num += 1\n",
    "\n",
    "print(\"\\nUsing while loop:\")\n",
    "print(cube_list_while)\n"
   ]
  },
  {
   "cell_type": "code",
   "execution_count": 7,
   "id": "7a92ba74",
   "metadata": {},
   "outputs": [
    {
     "name": "stdout",
     "output_type": "stream",
     "text": [
      "Number of vowels in the given string is:  11\n"
     ]
    }
   ],
   "source": [
    "'''Q5.  Write a program to filter count vowels in the below-given string.\n",
    "string = \"I want to become a data scientist\"'''\n",
    "\n",
    "# Program: Count number of vowels in a String in Python\n",
    "\n",
    "example = \"I want to become a data scientist\"\n",
    "count = 0\n",
    "i = 0\n",
    "for i in range(len(example)):\n",
    "    if (\n",
    "        (example[i] == \"a\")\n",
    "        or (example[i] == \"e\")\n",
    "        or (example[i] == \"i\")\n",
    "        or (example[i] == \"o\")\n",
    "        or (example[i] == \"u\")\n",
    "    ):\n",
    "        count += 1\n",
    "\n",
    "print(\"Number of vowels in the given string is: \", count)"
   ]
  }
 ],
 "metadata": {
  "kernelspec": {
   "display_name": "Python 3 (ipykernel)",
   "language": "python",
   "name": "python3"
  },
  "language_info": {
   "codemirror_mode": {
    "name": "ipython",
    "version": 3
   },
   "file_extension": ".py",
   "mimetype": "text/x-python",
   "name": "python",
   "nbconvert_exporter": "python",
   "pygments_lexer": "ipython3",
   "version": "3.10.9"
  }
 },
 "nbformat": 4,
 "nbformat_minor": 5
}
