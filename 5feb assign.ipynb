{
 "cells": [
  {
   "cell_type": "code",
   "execution_count": 13,
   "id": "ae1fee57",
   "metadata": {},
   "outputs": [
    {
     "data": {
      "text/plain": [
       "' Example: A dog has states - color, name, breed as well as behaviors – wagging the tail, barking, eating'"
      ]
     },
     "execution_count": 13,
     "metadata": {},
     "output_type": "execute_result"
    }
   ],
   "source": [
    "#Q1. Explain Class and Object with respect to Object-Oriented Programming. Give a suitable example.\n",
    "\n",
    "\n",
    "\"\"\"An object is an instance of a class. \n",
    "Class − A class can be defined as a blueprint that describes the state that the object of its type support.\"\"\"\n",
    "\n",
    "\"\"\" Example: A dog has states - color, name, breed as well as behaviors – wagging the tail, barking, eating\"\"\""
   ]
  },
  {
   "cell_type": "code",
   "execution_count": 14,
   "id": "3077a790",
   "metadata": {},
   "outputs": [
    {
     "data": {
      "text/plain": [
       "'Abstraction.\\nEncapsulation.\\nInheritance.\\nPolymorphism.'"
      ]
     },
     "execution_count": 14,
     "metadata": {},
     "output_type": "execute_result"
    }
   ],
   "source": [
    "#Q2. Name the four pillars of OOPs.\n",
    "\"\"\"Abstraction.\n",
    "Encapsulation.\n",
    "Inheritance.\n",
    "Polymorphism.\"\"\""
   ]
  },
  {
   "cell_type": "code",
   "execution_count": 16,
   "id": "f678f79e",
   "metadata": {},
   "outputs": [
    {
     "data": {
      "text/plain": [
       "'The Python __init__ method corresponds to the C++ constructor in an object-oriented approach.\\nWhenever a class generates an object, the __init__ function is invoked, allowing the class to initialize the object’s attributes. The __init__ method is only used inside classes and restricts the class’s ability to initialize the object’s attributes.'"
      ]
     },
     "execution_count": 16,
     "metadata": {},
     "output_type": "execute_result"
    }
   ],
   "source": [
    "#Q3. Explain why the __init__() function is used. \n",
    "\"\"\"The Python __init__ method corresponds to the C++ constructor in an object-oriented approach.\n",
    "Whenever a class generates an object, the __init__ function is invoked, allowing the class to initialize the object’s attributes. The __init__ method is only used inside classes and restricts the class’s ability to initialize the object’s attributes.\"\"\"\n",
    "\n"
   ]
  },
  {
   "cell_type": "code",
   "execution_count": 17,
   "id": "ef17d300",
   "metadata": {},
   "outputs": [
    {
     "data": {
      "text/plain": [
       "\"The self is used to represent the instance of the class. With this keyword, you can access the attributes and methods of the class in python. It binds the attributes with the given arguments. \\nThe reason why we use self is that Python does not use the '@' syntax to refer to instance attributes.\""
      ]
     },
     "execution_count": 17,
     "metadata": {},
     "output_type": "execute_result"
    }
   ],
   "source": [
    "#Q4. Why self is used in OOPs?\n",
    "\"\"\"The self is used to represent the instance of the class. With this keyword, you can access the attributes and methods of the class in python. It binds the attributes with the given arguments. \n",
    "The reason why we use self is that Python does not use the '@' syntax to refer to instance attributes.\"\"\""
   ]
  },
  {
   "cell_type": "code",
   "execution_count": 18,
   "id": "3dceabc6",
   "metadata": {},
   "outputs": [
    {
     "data": {
      "text/plain": [
       "'Inheritance is a method through which one class inherits the properties from its parent class. Inheritance is a feature in which one new class is derived from the existing ones. The new class derived is termed a derived class, and the current class is termed a Parent or base class'"
      ]
     },
     "execution_count": 18,
     "metadata": {},
     "output_type": "execute_result"
    }
   ],
   "source": [
    "# Q5. What is inheritance? Give an example for each type of inheritance.\n",
    "\"\"\"Inheritance is a method through which one class inherits the properties from its parent class. Inheritance is a feature in which one new class is derived from the existing ones. The new class derived is termed a derived class, and the current class is termed a Parent or base class\"\"\""
   ]
  },
  {
   "cell_type": "code",
   "execution_count": null,
   "id": "c7980b16",
   "metadata": {},
   "outputs": [],
   "source": []
  }
 ],
 "metadata": {
  "kernelspec": {
   "display_name": "Python 3 (ipykernel)",
   "language": "python",
   "name": "python3"
  },
  "language_info": {
   "codemirror_mode": {
    "name": "ipython",
    "version": 3
   },
   "file_extension": ".py",
   "mimetype": "text/x-python",
   "name": "python",
   "nbconvert_exporter": "python",
   "pygments_lexer": "ipython3",
   "version": "3.10.9"
  }
 },
 "nbformat": 4,
 "nbformat_minor": 5
}
