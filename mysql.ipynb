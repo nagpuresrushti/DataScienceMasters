{
 "cells": [
  {
   "cell_type": "code",
   "execution_count": 26,
   "id": "90e0d87b",
   "metadata": {},
   "outputs": [
    {
     "data": {
      "text/plain": [
       "'A database is a structured collection of data that is organized in a way that allows for efficient storage, retrieval, and manipulation of information.\\n   There are two main types of databases: SQL (Structured Query Language) databases and NoSQL (Not Only SQL) databases\\n    1. Structured Query Language (SQL): SQL databases use a standardized query language, known as SQL, for defining and manipulating the data. SQL provides a set of commands for querying, updating, and managing relational databases.\\n    2. Not Only SQL (NoSQL): NoSQL databases are designed to handle unstructured, semi-structured, or structured data. They provide a more flexible and dynamic approach to data storage and retrieval compared to SQL databases.'"
      ]
     },
     "execution_count": 26,
     "metadata": {},
     "output_type": "execute_result"
    }
   ],
   "source": [
    "# Q1.what is databases?Differentiate between SQL and NoSQL databases\n",
    "\"\"\"A database is a structured collection of data that is organized in a way that allows for efficient storage, retrieval, and manipulation of information.\n",
    "   There are two main types of databases: SQL (Structured Query Language) databases and NoSQL (Not Only SQL) databases\n",
    "    1. Structured Query Language (SQL): SQL databases use a standardized query language, known as SQL, for defining and manipulating the data. SQL provides a set of commands for querying, updating, and managing relational databases.\n",
    "    2. Not Only SQL (NoSQL): NoSQL databases are designed to handle unstructured, semi-structured, or structured data. They provide a more flexible and dynamic approach to data storage and retrieval compared to SQL databases.\"\"\""
   ]
  },
  {
   "cell_type": "code",
   "execution_count": 25,
   "id": "c0272c45",
   "metadata": {},
   "outputs": [],
   "source": [
    "# Q2.What is DDL? Explain why CREATE, DROP, ALTER, and TRUNCATE are used with an example"
   ]
  },
  {
   "cell_type": "code",
   "execution_count": 11,
   "id": "df98a47a",
   "metadata": {},
   "outputs": [
    {
     "data": {
      "text/plain": [
       "\"\\nDDL stands for Data Definition Language, which is a subset of SQL (Structured Query Language) commands used to define, modify, and manage the schema of a database. DDL commands do not manipulate data itself (that's the role of Data Manipulation Language, or DML); instead, they are used to create, modify, or delete the structure of database objects like tables, indexes, and views. Key DDL commands include CREATE, DROP, ALTER, and TRUNCATE.\""
      ]
     },
     "execution_count": 11,
     "metadata": {},
     "output_type": "execute_result"
    }
   ],
   "source": [
    "\"\"\"\n",
    "DDL stands for Data Definition Language, which is a subset of SQL (Structured Query Language) commands used to define, modify, and manage the schema of a database. DDL commands do not manipulate data itself (that's the role of Data Manipulation Language, or DML); instead, they are used to create, modify, or delete the structure of database objects like tables, indexes, and views. Key DDL commands include CREATE, DROP, ALTER, and TRUNCATE.\"\"\""
   ]
  },
  {
   "cell_type": "code",
   "execution_count": 13,
   "id": "5ba1d887",
   "metadata": {},
   "outputs": [
    {
     "data": {
      "text/plain": [
       "'1. CREATE\\nThe CREATE command is used to create a new table, a view, or other object in the database.\\n\\nExample: Creating a table\\n\\nsql\\nCopy code\\nCREATE TABLE Students (\\n    StudentID int,\\n    FirstName varchar(255),\\n    LastName varchar(255),\\n    BirthDate date\\n);'"
      ]
     },
     "execution_count": 13,
     "metadata": {},
     "output_type": "execute_result"
    }
   ],
   "source": [
    "\"\"\"1. CREATE\n",
    "The CREATE command is used to create a new table, a view, or other object in the database.\n",
    "\n",
    "Example: Creating a table\n",
    "CREATE TABLE Students (\n",
    "    StudentID int,\n",
    "    FirstName varchar(255),\n",
    "    LastName varchar(255),\n",
    "    BirthDate date\n",
    ");\"\"\""
   ]
  },
  {
   "cell_type": "code",
   "execution_count": 14,
   "id": "d70aafce",
   "metadata": {},
   "outputs": [
    {
     "data": {
      "text/plain": [
       "'2. DROP\\nThe DROP command is used to delete an existing database, table, view, or other object. Be careful with this command, as it removes the object and its data permanently.\\n\\nExample: Dropping a table\\nDROP TABLE Students;'"
      ]
     },
     "execution_count": 14,
     "metadata": {},
     "output_type": "execute_result"
    }
   ],
   "source": [
    "\"\"\"2. DROP\n",
    "The DROP command is used to delete an existing database, table, view, or other object. Be careful with this command, as it removes the object and its data permanently.\n",
    "\n",
    "Example: Dropping a table\n",
    "DROP TABLE Students;\"\"\""
   ]
  },
  {
   "cell_type": "code",
   "execution_count": 15,
   "id": "1f09bfec",
   "metadata": {},
   "outputs": [
    {
     "data": {
      "text/plain": [
       "'3. ALTER\\nThe ALTER command is used to modify an existing database object, such as adding, deleting, or modifying columns in an existing table.\\n\\nExample: Adding a column to a table\\nALTER TABLE Students ADD Email varchar(255);'"
      ]
     },
     "execution_count": 15,
     "metadata": {},
     "output_type": "execute_result"
    }
   ],
   "source": [
    "\"\"\"3. ALTER\n",
    "The ALTER command is used to modify an existing database object, such as adding, deleting, or modifying columns in an existing table.\n",
    "\n",
    "Example: Adding a column to a table\n",
    "ALTER TABLE Students ADD Email varchar(255);\"\"\""
   ]
  },
  {
   "cell_type": "code",
   "execution_count": 16,
   "id": "60524f57",
   "metadata": {},
   "outputs": [
    {
     "data": {
      "text/plain": [
       "'4. TRUNCATE\\nThe TRUNCATE command is used to delete all the rows from a table without deleting the table itself. This is useful for quickly removing all data from a table but keeping its structure for future use.\\n\\nExample: Truncating a table\\nTRUNCATE TABLE Students;'"
      ]
     },
     "execution_count": 16,
     "metadata": {},
     "output_type": "execute_result"
    }
   ],
   "source": [
    "\"\"\"4. TRUNCATE\n",
    "The TRUNCATE command is used to delete all the rows from a table without deleting the table itself. This is useful for quickly removing all data from a table but keeping its structure for future use.\n",
    "\n",
    "Example: Truncating a table\n",
    "TRUNCATE TABLE Students;\"\"\""
   ]
  },
  {
   "cell_type": "code",
   "execution_count": 34,
   "id": "9d8d79ac",
   "metadata": {},
   "outputs": [],
   "source": [
    "#Q3.What is DML? Explain INSERT, UPDATE, and DELETE with an example."
   ]
  },
  {
   "cell_type": "code",
   "execution_count": 35,
   "id": "6751dcdc",
   "metadata": {},
   "outputs": [
    {
     "data": {
      "text/plain": [
       "'DML stands for Data Manipulation Language, which is a subset of SQL (Structured Query Language) commands used to add, modify, delete, and query data in the database. Unlike Data Definition Language (DDL), which deals with the schema and structure of the database, DML focuses on the data itself. The key DML commands include INSERT, UPDATE, and DELETE. '"
      ]
     },
     "execution_count": 35,
     "metadata": {},
     "output_type": "execute_result"
    }
   ],
   "source": [
    "\"\"\"DML stands for Data Manipulation Language, which is a subset of SQL (Structured Query Language) commands used to add, modify, delete, and query data in the database. Unlike Data Definition Language (DDL), which deals with the schema and structure of the database, DML focuses on the data itself. The key DML commands include INSERT, UPDATE, and DELETE. \"\"\""
   ]
  },
  {
   "cell_type": "code",
   "execution_count": 36,
   "id": "d05dacdf",
   "metadata": {},
   "outputs": [
    {
     "data": {
      "text/plain": [
       "\" 1. INSERT\\nThe INSERT command is used to add new rows (records) to a table.INSERT INTO Students (StudentID, FirstName, LastName, BirthDate)\\nVALUES (1, 'John', 'Doe', '2000-01-01');\\n\""
      ]
     },
     "execution_count": 36,
     "metadata": {},
     "output_type": "execute_result"
    }
   ],
   "source": [
    "\"\"\" 1. INSERT\n",
    "The INSERT command is used to add new rows (records) to a table.INSERT INTO Students (StudentID, FirstName, LastName, BirthDate)\n",
    "VALUES (1, 'John', 'Doe', '2000-01-01');\n",
    "\"\"\""
   ]
  },
  {
   "cell_type": "code",
   "execution_count": 37,
   "id": "7f1d4465",
   "metadata": {},
   "outputs": [
    {
     "data": {
      "text/plain": [
       "\"2. UPDATE\\nThe UPDATE command is used to modify existing data in a table.\\n\\nExample: Updating a row in a table\\nUPDATE Students\\nSET FirstName = 'James'\\nWHERE StudentID = 1;\""
      ]
     },
     "execution_count": 37,
     "metadata": {},
     "output_type": "execute_result"
    }
   ],
   "source": [
    "\"\"\"2. UPDATE\n",
    "The UPDATE command is used to modify existing data in a table.\n",
    "\n",
    "Example: Updating a row in a table\n",
    "UPDATE Students\n",
    "SET FirstName = 'James'\n",
    "WHERE StudentID = 1;\"\"\""
   ]
  },
  {
   "cell_type": "code",
   "execution_count": 38,
   "id": "342e0646",
   "metadata": {},
   "outputs": [
    {
     "data": {
      "text/plain": [
       "'3. DELETE\\nThe DELETE command is used to remove one or more rows from a table.\\n\\nExample: Deleting a row from a table\\nDELETE FROM Students\\nWHERE StudentID = 1;'"
      ]
     },
     "execution_count": 38,
     "metadata": {},
     "output_type": "execute_result"
    }
   ],
   "source": [
    "\"\"\"3. DELETE\n",
    "The DELETE command is used to remove one or more rows from a table.\n",
    "\n",
    "Example: Deleting a row from a table\n",
    "DELETE FROM Students\n",
    "WHERE StudentID = 1;\"\"\""
   ]
  },
  {
   "cell_type": "code",
   "execution_count": 40,
   "id": "ddcc0719",
   "metadata": {},
   "outputs": [],
   "source": [
    "# Q4.What is DQL? Explain SELECT with an example"
   ]
  },
  {
   "cell_type": "code",
   "execution_count": 29,
   "id": "0aa25c9d",
   "metadata": {},
   "outputs": [
    {
     "data": {
      "text/plain": [
       "'DQL stands for Data Query Language, which is a subset of SQL (Structured Query Language) commands used to query (i.e., retrieve) data from a database. Unlike Data Manipulation Language (DML), which is used to insert, update, and delete data, and Data Definition Language (DDL), which is used to define and modify database schema, DQL focuses solely on fetching the data according to the specified criteria. The primary, and essentially the only, DQL command is SELECT.\\n\\nSELECT\\nThe SELECT command is used to retrieve data from one or more tables in a database. It can be used to fetch all columns of a table or just a subset, and it can include conditions to filter the rows that are returned. Additionally, SELECT queries can join multiple tables, group data, and perform complex calculations.'"
      ]
     },
     "execution_count": 29,
     "metadata": {},
     "output_type": "execute_result"
    }
   ],
   "source": [
    "\"\"\"DQL stands for Data Query Language, which is a subset of SQL (Structured Query Language) commands used to query (i.e., retrieve) data from a database. Unlike Data Manipulation Language (DML), which is used to insert, update, and delete data, and Data Definition Language (DDL), which is used to define and modify database schema, DQL focuses solely on fetching the data according to the specified criteria. The primary, and essentially the only, DQL command is SELECT.\n",
    "\n",
    "SELECT\n",
    "The SELECT command is used to retrieve data from one or more tables in a database. It can be used to fetch all columns of a table or just a subset, and it can include conditions to filter the rows that are returned. Additionally, SELECT queries can join multiple tables, group data, and perform complex calculations.\"\"\""
   ]
  },
  {
   "cell_type": "code",
   "execution_count": 30,
   "id": "3e14e039",
   "metadata": {},
   "outputs": [
    {
     "data": {
      "text/plain": [
       "'SELECT column1, column2, ...\\nFROM tablename\\nWHERE condition\\nORDER BY column\\nGROUP BY column\\nHAVING condition\\nLIMIT number;\\n'"
      ]
     },
     "execution_count": 30,
     "metadata": {},
     "output_type": "execute_result"
    }
   ],
   "source": [
    "\"\"\"SELECT column1, column2, ...\n",
    "FROM tablename\n",
    "WHERE condition\n",
    "ORDER BY column\n",
    "GROUP BY column\n",
    "HAVING condition\n",
    "LIMIT number;\n",
    "\"\"\""
   ]
  },
  {
   "cell_type": "code",
   "execution_count": 41,
   "id": "ce6ac5d2",
   "metadata": {},
   "outputs": [],
   "source": [
    "#Q5. Explain Primary Key and Foreign Key."
   ]
  },
  {
   "cell_type": "code",
   "execution_count": 32,
   "id": "2dd87e37",
   "metadata": {},
   "outputs": [
    {
     "data": {
      "text/plain": [
       "'Primary Key\\nA primary key is a column (or a set of columns) in a database table that uniquely identifies each row in that table. The primary key enforces the entity integrity of the table, meaning that no two rows can have the same primary key value, and every row must have a primary key value (i.e., the primary key column cannot contain NULL values). This unique identifier allows for efficient data retrieval and ensures that each record can be uniquely identified.'"
      ]
     },
     "execution_count": 32,
     "metadata": {},
     "output_type": "execute_result"
    }
   ],
   "source": [
    "\"\"\"Primary Key\n",
    "A primary key is a column (or a set of columns) in a database table that uniquely identifies each row in that table. The primary key enforces the entity integrity of the table, meaning that no two rows can have the same primary key value, and every row must have a primary key value (i.e., the primary key column cannot contain NULL values). This unique identifier allows for efficient data retrieval and ensures that each record can be uniquely identified.\"\"\""
   ]
  },
  {
   "cell_type": "code",
   "execution_count": 33,
   "id": "5cfdb7ad",
   "metadata": {},
   "outputs": [
    {
     "data": {
      "text/plain": [
       "'Foreign Key\\nA foreign key is a column (or set of columns) in a database table that creates a link between data in two tables. It is a field (or fields) in one table that references the primary key in another table. The foreign key establishes a relationship between the tables and enforces referential integrity, ensuring that the value in the foreign key column matches one in the primary key column of the referenced table, or is NULL. This mechanism is used to maintain data integrity and enforce relationships between data.'"
      ]
     },
     "execution_count": 33,
     "metadata": {},
     "output_type": "execute_result"
    }
   ],
   "source": [
    "\"\"\"Foreign Key\n",
    "A foreign key is a column (or set of columns) in a database table that creates a link between data in two tables. It is a field (or fields) in one table that references the primary key in another table. The foreign key establishes a relationship between the tables and enforces referential integrity, ensuring that the value in the foreign key column matches one in the primary key column of the referenced table, or is NULL. This mechanism is used to maintain data integrity and enforce relationships between data.\"\"\""
   ]
  },
  {
   "cell_type": "code",
   "execution_count": 42,
   "id": "9f15983e",
   "metadata": {},
   "outputs": [],
   "source": [
    "#Q6.6. Write a python code to connect MySQL to python. Explain the cursor() and execute() method."
   ]
  },
  {
   "cell_type": "code",
   "execution_count": 43,
   "id": "67075a7b",
   "metadata": {},
   "outputs": [
    {
     "data": {
      "text/plain": [
       "'import mysql.connector\\n\\n# Establish connection\\ncnx = mysql.connector.connect(\\n    host=\"your_host\",\\n    user=\"your_username\",\\n    password=\"your_password\",\\n    database=\"your_database_name\"\\n)\\n\\n# Create cursor\\ncursor = cnx.cursor()\\n\\n# Execute a query\\ncursor.execute(\"SELECT * FROM your_table_name\")\\n\\n# Fetch and print all results\\nfor row in cursor.fetchall():\\n    print(row)\\n\\n# Close cursor and connection\\ncursor.close()\\ncnx.close()\\n\\n'"
      ]
     },
     "execution_count": 43,
     "metadata": {},
     "output_type": "execute_result"
    }
   ],
   "source": [
    "\"\"\"import mysql.connector\n",
    "\n",
    "# Establish connection\n",
    "cnx = mysql.connector.connect(\n",
    "    host=\"your_host\",\n",
    "    user=\"your_username\",\n",
    "    password=\"your_password\",\n",
    "    database=\"your_database_name\"\n",
    ")\n",
    "\n",
    "# Create cursor\n",
    "cursor = cnx.cursor()\n",
    "\n",
    "# Execute a query\n",
    "cursor.execute(\"SELECT * FROM your_table_name\")\n",
    "\n",
    "# Fetch and print all results\n",
    "for row in cursor.fetchall():\n",
    "    print(row)\n",
    "\n",
    "# Close cursor and connection\n",
    "cursor.close()\n",
    "cnx.close()\n",
    "\n",
    "\"\"\""
   ]
  },
  {
   "cell_type": "code",
   "execution_count": 44,
   "id": "818eb43e",
   "metadata": {},
   "outputs": [
    {
     "data": {
      "text/plain": [
       "'cursor() Method Explanation:\\nThe cursor() method creates a cursor object which allows you to execute SQL commands through Python. Cursors are important because they act as intermediaries between the connection to the database and SQL query execution, enabling the traversal over the rows of the result set.'"
      ]
     },
     "execution_count": 44,
     "metadata": {},
     "output_type": "execute_result"
    }
   ],
   "source": [
    "\"\"\"cursor() Method Explanation:\n",
    "The cursor() method creates a cursor object which allows you to execute SQL commands through Python. Cursors are important because they act as intermediaries between the connection to the database and SQL query execution, enabling the traversal over the rows of the result set.\"\"\""
   ]
  },
  {
   "cell_type": "code",
   "execution_count": 45,
   "id": "69e17cec",
   "metadata": {},
   "outputs": [
    {
     "data": {
      "text/plain": [
       "'execute() Method Explanation:\\nThe execute() method is used to compile and run SQL commands passed as strings. After executing a query, the cursor can be used to fetch results if the query was a SELECT or similar query that returns data.'"
      ]
     },
     "execution_count": 45,
     "metadata": {},
     "output_type": "execute_result"
    }
   ],
   "source": [
    "\"\"\"execute() Method Explanation:\n",
    "The execute() method is used to compile and run SQL commands passed as strings. After executing a query, the cursor can be used to fetch results if the query was a SELECT or similar query that returns data.\"\"\""
   ]
  },
  {
   "cell_type": "code",
   "execution_count": 46,
   "id": "4647596e",
   "metadata": {},
   "outputs": [],
   "source": [
    "#Q7. Give the order of execution of SQL clauses in an SQL query."
   ]
  },
  {
   "cell_type": "code",
   "execution_count": 47,
   "id": "163c7bcb",
   "metadata": {},
   "outputs": [
    {
     "data": {
      "text/plain": [
       "\" The order of execution of SQL clauses in an SQL query is crucial for understanding how SQL servers interpret queries, especially when it comes to optimizing and troubleshooting complex SQL statements. Here's the typical order in which SQL clauses are executed:\\n\\n1. **FROM and JOINs**\\n   - The database system first looks at the `FROM` clause, which specifies the tables from which to retrieve data. If there are any `JOIN` conditions, these are processed at this stage to determine how data from different tables is combined. This step essentially builds the working dataset that will be used by the subsequent steps.\\n\\n2. **WHERE**\\n   - Next, the `WHERE` clause is applied to the dataset obtained from the `FROM` and `JOIN` operations. This filters the rows according to the specified condition(s), eliminating rows that do not satisfy the condition(s). Only the rows that meet these criteria move on to the next steps.\\n\\n3. **GROUP BY**\\n   - If a `GROUP BY` clause is present, the result set is then grouped based on the specified columns. This is necessary for aggregating data (using `SUM`, `COUNT`, `AVG`, etc.) within those groups. Each group will produce a single row of output in the final result set.\\n\\n4. **HAVING**\\n   - The `HAVING` clause filters groups created by the `GROUP BY` clause based on a specified condition. Unlike the `WHERE` clause, which filters rows, the `HAVING` clause filters groups. This means it is applied after the groups have been created.\\n\\n5. **SELECT**\\n   - The `SELECT` clause determines which columns are included in the final result set. Although `SELECT` appears at the beginning of an SQL statement, the actual selection of columns occurs after the data source(s) and row and group filtering have been resolved. This is also where expressions in the select list are evaluated.\\n\\n6. **DISTINCT**\\n   - If the `SELECT` clause includes the `DISTINCT` keyword, duplicate rows are removed from the result set. This ensures that the final result contains only unique rows for the columns specified in the `SELECT` list.\\n\\n7. **ORDER BY**\\n   - The `ORDER BY` clause sorts the result set according to the specified column(s) and order (ascending or descending). This is one of the last operations before the data is returned to the user. Sorting can significantly impact performance, especially on large datasets.\\n\\n8. **LIMIT / OFFSET**\\n   - Finally, the `LIMIT` (and optionally, `OFFSET`) clause is applied to limit the number of rows returned by the query. This is often used in paging solutions where you need to return a subset of the rows from a larger query result.\\n\\nUnderstanding the order of execution helps in writing more efficient SQL queries and can be particularly helpful when diagnosing why a query isn't producing the expected result. It's important to note that while this is the logical processing order, SQL databases often optimize the actual execution path in ways that may differ from this sequence to improve performance.\""
      ]
     },
     "execution_count": 47,
     "metadata": {},
     "output_type": "execute_result"
    }
   ],
   "source": [
    "\"\"\" The order of execution of SQL clauses in an SQL query is crucial for understanding how SQL servers interpret queries, especially when it comes to optimizing and troubleshooting complex SQL statements. Here's the typical order in which SQL clauses are executed:\n",
    "\n",
    "1. **FROM and JOINs**\n",
    "   - The database system first looks at the `FROM` clause, which specifies the tables from which to retrieve data. If there are any `JOIN` conditions, these are processed at this stage to determine how data from different tables is combined. This step essentially builds the working dataset that will be used by the subsequent steps.\n",
    "\n",
    "2. **WHERE**\n",
    "   - Next, the `WHERE` clause is applied to the dataset obtained from the `FROM` and `JOIN` operations. This filters the rows according to the specified condition(s), eliminating rows that do not satisfy the condition(s). Only the rows that meet these criteria move on to the next steps.\n",
    "\n",
    "3. **GROUP BY**\n",
    "   - If a `GROUP BY` clause is present, the result set is then grouped based on the specified columns. This is necessary for aggregating data (using `SUM`, `COUNT`, `AVG`, etc.) within those groups. Each group will produce a single row of output in the final result set.\n",
    "\n",
    "4. **HAVING**\n",
    "   - The `HAVING` clause filters groups created by the `GROUP BY` clause based on a specified condition. Unlike the `WHERE` clause, which filters rows, the `HAVING` clause filters groups. This means it is applied after the groups have been created.\n",
    "\n",
    "5. **SELECT**\n",
    "   - The `SELECT` clause determines which columns are included in the final result set. Although `SELECT` appears at the beginning of an SQL statement, the actual selection of columns occurs after the data source(s) and row and group filtering have been resolved. This is also where expressions in the select list are evaluated.\n",
    "\n",
    "6. **DISTINCT**\n",
    "   - If the `SELECT` clause includes the `DISTINCT` keyword, duplicate rows are removed from the result set. This ensures that the final result contains only unique rows for the columns specified in the `SELECT` list.\n",
    "\n",
    "7. **ORDER BY**\n",
    "   - The `ORDER BY` clause sorts the result set according to the specified column(s) and order (ascending or descending). This is one of the last operations before the data is returned to the user. Sorting can significantly impact performance, especially on large datasets.\n",
    "\n",
    "8. **LIMIT / OFFSET**\n",
    "   - Finally, the `LIMIT` (and optionally, `OFFSET`) clause is applied to limit the number of rows returned by the query. This is often used in paging solutions where you need to return a subset of the rows from a larger query result.\n",
    "\n",
    "Understanding the order of execution helps in writing more efficient SQL queries and can be particularly helpful when diagnosing why a query isn't producing the expected result. It's important to note that while this is the logical processing order, SQL databases often optimize the actual execution path in ways that may differ from this sequence to improve performance.\"\"\""
   ]
  },
  {
   "cell_type": "code",
   "execution_count": null,
   "id": "524b8bf8",
   "metadata": {},
   "outputs": [],
   "source": []
  }
 ],
 "metadata": {
  "kernelspec": {
   "display_name": "Python 3 (ipykernel)",
   "language": "python",
   "name": "python3"
  },
  "language_info": {
   "codemirror_mode": {
    "name": "ipython",
    "version": 3
   },
   "file_extension": ".py",
   "mimetype": "text/x-python",
   "name": "python",
   "nbconvert_exporter": "python",
   "pygments_lexer": "ipython3",
   "version": "3.10.9"
  }
 },
 "nbformat": 4,
 "nbformat_minor": 5
}
